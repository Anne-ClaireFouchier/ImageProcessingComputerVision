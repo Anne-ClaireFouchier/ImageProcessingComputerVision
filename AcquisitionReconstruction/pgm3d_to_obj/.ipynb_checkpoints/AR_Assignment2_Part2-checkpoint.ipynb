{
 "cells": [
  {
   "cell_type": "markdown",
   "metadata": {},
   "source": [
    "# Shepp Logan phantom and 3D surface extraction"
   ]
  },
  {
   "cell_type": "markdown",
   "metadata": {},
   "source": [
    "The goal of this assignment is to be able to extract surfaces from a pre-segmented phantom image. This phantom is the famous Shepp Logan phantom (https://en.wikipedia.org/wiki/Shepp%E2%80%93Logan_phantom). \n",
    "The file format of this pre-segmented phantom is PGM3D. This is an extension of the common PGM format."
   ]
  },
  {
   "cell_type": "markdown",
   "metadata": {},
   "source": [
    "The header is the following :\n",
    "\n",
    "    PGM3D #keyword to identify the file format\n",
    "\n",
    "    x y z #size of the 3D image\n",
    "    \n",
    "    max #maximum greylevel\n",
    "    \n",
    "    DATA #x*y*z grey values \n",
    "    \n",
    "You can download the file at : http://dept-info.labri.fr/~desbarat/ARM/shepplogan.pgm3d"
   ]
  },
  {
   "cell_type": "markdown",
   "metadata": {},
   "source": [
    "**Reading the PGM3D file (2pts)**\n",
    "\n",
    "Step 1. Import the libraries needed to read files from the filesystem."
   ]
  },
  {
   "cell_type": "code",
   "execution_count": 24,
   "metadata": {},
   "outputs": [],
   "source": [
    "import os\n",
    "import numpy as np"
   ]
  },
  {
   "cell_type": "markdown",
   "metadata": {},
   "source": [
    "Step 2. Collect the data from the header."
   ]
  },
  {
   "cell_type": "code",
   "execution_count": 25,
   "metadata": {},
   "outputs": [],
   "source": [
    "def convert_line_to_size(size_line):\n",
    "    size=size_line.split(\" \")\n",
    "    size[-1]=size[-1].split(\"\\n\")[0]\n",
    "    for i in range(len(size)):\n",
    "        size[i]=int(size[i])\n",
    "    return size"
   ]
  },
  {
   "cell_type": "code",
   "execution_count": 26,
   "metadata": {},
   "outputs": [],
   "source": [
    "filename='shepplogan.pgm3d'\n",
    "data=open(filename)\n",
    "\n",
    "file_format=data.readline()\n",
    "\n",
    "size_line=data.readline()\n",
    "size=convert_line_to_size(size_line) # size of the 3D image\n",
    "\n",
    "g_max=int(data.readline()) # maximum gray level"
   ]
  },
  {
   "cell_type": "markdown",
   "metadata": {},
   "source": [
    "Step 3. Put the data values in a 3D numpy array."
   ]
  },
  {
   "cell_type": "code",
   "execution_count": 49,
   "metadata": {},
   "outputs": [],
   "source": [
    "val=np.loadtxt(filename, dtype=np.int32, skiprows=3)\n",
    "val_mat=val.reshape([size[0], size[1], size[2]])"
   ]
  },
  {
   "cell_type": "code",
   "execution_count": 50,
   "metadata": {},
   "outputs": [
    {
     "data": {
      "text/plain": [
       "array([  0,  25,  51,  76, 102, 255], dtype=int32)"
      ]
     },
     "execution_count": 50,
     "metadata": {},
     "output_type": "execute_result"
    }
   ],
   "source": [
    "np.sort(np.unique(val_mat))"
   ]
  },
  {
   "cell_type": "code",
   "execution_count": 51,
   "metadata": {},
   "outputs": [
    {
     "name": "stdout",
     "output_type": "stream",
     "text": [
      "number_values : 5\n",
      "border : 51.0 (and not 63.0)\n",
      ">=border*0 and <border*1\n",
      ">=border*1 and <border*2\n",
      ">=border*2 and <border*3\n",
      ">=border*3 and <border*4\n"
     ]
    },
    {
     "data": {
      "text/plain": [
       "array([  0,  51, 102, 255], dtype=int32)"
      ]
     },
     "execution_count": 51,
     "metadata": {},
     "output_type": "execute_result"
    }
   ],
   "source": [
    "mat=val_mat\n",
    "np.sort(np.unique(reduce_resolution(mat, g_max, 4)))"
   ]
  },
  {
   "cell_type": "markdown",
   "metadata": {},
   "source": [
    "**Exporting an OBJ file (2pts)**\n",
    "\n",
    "The OBJ file format allow to describe a 3D mesh from a list of vertices and how they are linked to create faces.\n",
    "\n",
    "It's an ASCII file format that can be resumed as such :\n",
    "\n",
    "    #List of all vertices\n",
    "\n",
    "    v x1 y1 z1\n",
    "\n",
    "    v x2 y2 z2\n",
    "\n",
    "    v x3 y3 z3\n",
    "\n",
    "    #List of all faces\n",
    "\n",
    "    f 1 2 3\n",
    "\n",
    "This create 3 vertices that are linked together to create one face.\n",
    "\n",
    "Step 4. Create two arrays, that represent the vertices and the faces needed to create a cube of size 1x1x1. Even if it is possible to create polygons with more than 3 vertices in an OBJ, you should only use triangles for your faces."
   ]
  },
  {
   "cell_type": "code",
   "execution_count": 6,
   "metadata": {},
   "outputs": [],
   "source": [
    "vertices = np.array([[0,0,0],[0,1,0],[1,1,0],[1,0,0],[0,1,1],[0,0,1],[1,1,1],[1,0,1]])\n",
    "faces = np.array([[1,2,3],[1,3,4],[4,3,7],[4,7,8],[8,7,6],[5,6,7],[1,6,5],[5,2,1],[2,5,3],[3,5,7],[1,4,6],[4,8,6]])"
   ]
  },
  {
   "cell_type": "markdown",
   "metadata": {},
   "source": [
    "Step 5. Write a function that take a vertice array and a face array (and a filename), and write and OBJ file that represent the mesh described by thoses arrays."
   ]
  },
  {
   "cell_type": "code",
   "execution_count": 9,
   "metadata": {},
   "outputs": [],
   "source": [
    "def mesh_to_file(vertice_arr, face_arr, obj_filename):\n",
    "    f = open(obj_filename, \"w\")\n",
    "    if type(vertice_arr) is not np.ndarray:\n",
    "        vertice_arr=np.array(vertice_arr)\n",
    "    if type(face_arr) is not np.ndarray:\n",
    "        face_arr=np.array(face_arr)\n",
    "    assert vertice_arr.shape[1]==3\n",
    "    assert face_arr.shape[1]==3\n",
    "    for i in range(vertice_arr.shape[0]):\n",
    "        f.write(\"v \"+str(vertice_arr[i, 0])+\" \"+str(vertice_arr[i, 1])+\" \"+str(vertice_arr[i, 2])+\"\\n\")\n",
    "    for j in range(face_arr.shape[0]):\n",
    "        f.write(\"f \"+str(face_arr[j, 0])+\" \"+str(face_arr[j, 1])+\" \"+str(face_arr[j, 2])+\"\\n\")\n",
    "    f.close()"
   ]
  },
  {
   "cell_type": "markdown",
   "metadata": {},
   "source": [
    "Step 6. Use this function to create an OBJ file from thoses arrays, and import it in MeshLab (https://www.meshlab.net/#download) to see if the result is correct. "
   ]
  },
  {
   "cell_type": "code",
   "execution_count": 10,
   "metadata": {},
   "outputs": [],
   "source": [
    "mesh_to_file(vertices, faces, \"cube.obj\")"
   ]
  },
  {
   "cell_type": "markdown",
   "metadata": {},
   "source": [
    "**Exporting the PGM3D as an OBJ file (4pts, if the final part if not done)**\n",
    "\n",
    "Now we will create an OBJ file from the 3D array.\n",
    "\n",
    "We need to extract inter-voxels boundaries from different regions of the 3D image. The goal is to extract the squares between voxels of different labels and create a mesh with these faces.\n",
    "\n",
    "To do so, you can :\n",
    "- Segment the matrix in a certain number of label that each represent a range of values.\n",
    "- Iterate over the voxels, and for each neighboor, if it's a different label, append the vertices and faces that represent the square that separate them to two array (list of vertices and list of faces).\n",
    "- Export the two arrays into an OBJ.\n",
    "\n",
    "You need to take care to not consider the values outside of the volume (close or equal to zero). They do not count as a label. \n",
    "\n",
    "Step 7. Create a pgm3d_to_obj.py program that take as arguments a pgm3d file and the number of labels, and output an OBJ file containing the boundaries between thoses labels. You can use MeshLab to display your result."
   ]
  },
  {
   "cell_type": "code",
   "execution_count": 52,
   "metadata": {},
   "outputs": [
    {
     "ename": "SyntaxError",
     "evalue": "invalid syntax (<ipython-input-52-4797aa9f0353>, line 23)",
     "output_type": "error",
     "traceback": [
      "\u001b[0;36m  File \u001b[0;32m\"<ipython-input-52-4797aa9f0353>\"\u001b[0;36m, line \u001b[0;32m23\u001b[0m\n\u001b[0;31m    val_mat[(val_mat>=border*i) & (val_mat<border*(i+1))]=border*i\u001b[0m\n\u001b[0m    ^\u001b[0m\n\u001b[0;31mSyntaxError\u001b[0m\u001b[0;31m:\u001b[0m invalid syntax\n"
     ]
    }
   ],
   "source": [
    "\"\"\"def reduce_resolution(val_mat, intensity_max, number_values=0):\n",
    "    if number_values<=0 or number_values>=intensity_max:\n",
    "        return val_mat\n",
    "    else:\n",
    "        border=np.floor(intensity_max/number_values)\n",
    "        print(\"border : \"+str(border))\n",
    "        for i in range(number_values-1):\n",
    "            print(\"border * \"+str(i)+\" : \"+str(border*i))\n",
    "            val_mat[(val_mat>=border*i) & (val_mat<border*(i+1))]=border*i\n",
    "        val_mat[val_mat>=border*(number_values-1)]=intensity_max\n",
    "    return val_mat\n",
    "\"\"\"\n",
    "def reduce_resolution(val_mat, intensity_max, number_values=0):\n",
    "    if number_values<=0 or number_values>=intensity_max:\n",
    "        return val_mat\n",
    "    else:\n",
    "        number_values=number_values+1\n",
    "        print(\"number_values : \"+str(number_values))\n",
    "        border=np.floor(intensity_max/number_values)\n",
    "        print(\"border : \"+str(border)+\" (and not \"+str(np.floor(intensity_max/(number_values-1)))+\")\")\n",
    "        for i in range(number_values-1):\n",
    "            print(\">=\"+str(border*i)+\" and <\"+str(border*(i+1)))\n",
    "            val_mat[(val_mat>=border*i) & (val_mat<border*(i+1))]=border*i\n",
    "        val_mat[val_mat>=border*(number_values-1)]=intensity_max\n",
    "    return val_mat\n",
    "\n",
    "def get_vertice_number(vertices_array, vertice_coord):\n",
    "    # checks if the vertex exists. If so, returns the index, if not, creates it and return index.\n",
    "    if vertice_coord in vertices_array:\n",
    "        index=vertices_array.index(vertice_coord)\n",
    "    else :\n",
    "        index=len(vertices_array)\n",
    "        vertices_array.append(vertice_coord)\n",
    "    index=index+1 # because vertices numbers start with 1\n",
    "    return index, vertices_array\n",
    "\n",
    "def append_faces_square(v1, v2, v3, v4, faces_array):\n",
    "    # appends to the faces_array the face made of 2 triangles, both sides\n",
    "    faces_array.append([v1, v2, v3])\n",
    "    faces_array.append([v1, v3, v2])\n",
    "    faces_array.append([v3, v4, v1])\n",
    "    faces_array.append([v3, v1, v4])\n",
    "    return faces_array\n",
    "\n",
    "def append_separator(vertices_array, faces_array, c1, c2, c3, c4):\n",
    "    # creates/get the needed vertices, make faces, return the arrays of vertices and faces\n",
    "    v1, vertices_array=get_vertice_number(vertices_array, c1)\n",
    "    v2, vertices_array=get_vertice_number(vertices_array, c2)\n",
    "    v3, vertices_array=get_vertice_number(vertices_array, c3)\n",
    "    v4, vertices_array=get_vertice_number(vertices_array, c4)\n",
    "    faces_array=append_faces_square(v1, v2, v3, v4, faces_array)\n",
    "    return vertices_array, faces_array\n",
    "\n",
    "\n",
    "def process_matrix(val_mat):\n",
    "    # goes over each pixel and its 3 forward neighbors. \n",
    "    # If 2 neighbors have different intensities, then a separator is created\n",
    "    # returns the numpy arrays of vertices and faces, which make the separators\n",
    "\n",
    "    range_intensities=np.sort(np.unique(val_mat))\n",
    "    \n",
    "    # pad if we don't start in background\n",
    "    if val_mat[0, 0, 0]!=range_intensities[0]:\n",
    "        m,n,p=val_mat.shape\n",
    "        mat=np.full((m+2, n+2, p+2), range_intensities[0])\n",
    "        mat[1:-1, 1:-1, 1:-1]=val_mat\n",
    "    \n",
    "    size=val_mat.shape\n",
    "    vertices_array=[]\n",
    "    faces_array=[]\n",
    "    \n",
    "    \n",
    "    # for (x, y, z), check (x+1, y, z), (x, y+1, z) and (x, y, z+1)\n",
    "    for x in range(size[0]):\n",
    "        for y in range(size[1]):\n",
    "            for z in range(size[2]):\n",
    "                label=val_mat[x, y, z]\n",
    "                if x<size[0]-1:\n",
    "                    if label != val_mat[x+1, y, z]:\n",
    "                        # vertices of the separation square --> get their vertice index\n",
    "                        c1=[x+0.5, y-0.5, z-0.5]\n",
    "                        c2=[x+0.5, y-0.5, z+0.5]\n",
    "                        c3=[x+0.5, y+0.5, z+0.5]\n",
    "                        c4=[x+0.5, y+0.5, z-0.5]\n",
    "                        # face will be (v1, v2, v3) and (v3, v4, v1)\n",
    "                        vertices_array, faces_array=append_separator(vertices_array, faces_array, c1, c2, c3, c4)\n",
    "                if y<size[1]-1:\n",
    "                    if label != val_mat[x, y+1, z]:\n",
    "                        c1=[x-0.5, y+0.5, z-0.5] \n",
    "                        c2=[x+0.5, y+0.5, z-0.5]\n",
    "                        c3=[x+0.5, y+0.5, z+0.5]\n",
    "                        c4=[x-0.5, y+0.5, z+0.5]\n",
    "                        vertices_array, faces_array=append_separator(vertices_array, faces_array, c1, c2, c3, c4)\n",
    "                if z<size[2]-1:\n",
    "                    if label != val_mat[x, y, z+1]:\n",
    "                        c1=[x-0.5, y-0.5, z+0.5]\n",
    "                        c2=[x+0.5, y-0.5, z+0.5]\n",
    "                        c3=[x+0.5, y+0.5, z+0.5]\n",
    "                        c4=[x-0.5, y+0.5, z+0.5]\n",
    "                        vertices_array, faces_array=append_separator(vertices_array, faces_array, c1, c2, c3, c4)\n",
    "                    \n",
    "    return vertices_array, faces_array\n",
    "\n",
    "\n",
    "def export_PGM3D_to_OBJ(filename_in, filename_out, number_labels=0):\n",
    "    # takes a PGM3D, checks right type, extract the matrix, processes it, saves the object in an .obj file\n",
    "    # returns the arrays of vertices and faces\n",
    "    \n",
    "    # check right format\n",
    "    assert(filename_in.endswith('.pgm3d'))\n",
    "    \n",
    "    data=open(filename_in)\n",
    "    \n",
    "    # check right header\n",
    "    file_format=data.readline()\n",
    "    assert file_format=='PGM3D\\n'\n",
    "    \n",
    "    # check size size\n",
    "    size_line=data.readline()\n",
    "    size=convert_line_to_size(size_line)\n",
    "    assert(len(size)==3)\n",
    "    \n",
    "    # get max intensity\n",
    "    intensity_max=int(data.readline())\n",
    "    \n",
    "    # get values\n",
    "    val=np.loadtxt(filename_in, dtype=np.int32, skiprows=3)\n",
    "    val_mat=val.reshape([size[0], size[1], size[2]])\n",
    "    \n",
    "    # update resolution\n",
    "    val_mat=reduce_resolution(val_mat, intensity_max, number_labels)\n",
    "    \n",
    "    # Process the values into an array of vertices and an array of faces\n",
    "    vertices_array, faces_array=process_matrix(val_mat)\n",
    "    \n",
    "    # make the .obj\n",
    "    mesh_to_file(vertices_array, faces_array, filename_out)\n",
    "    return vertices_array, faces_array"
   ]
  },
  {
   "cell_type": "code",
   "execution_count": 20,
   "metadata": {},
   "outputs": [
    {
     "name": "stdout",
     "output_type": "stream",
     "text": [
      "[  0  25  51  76 102 255]\n",
      "[  0  24  51  75 102 255]\n"
     ]
    }
   ],
   "source": [
    "print(np.sort(np.unique(val_mat)))\n",
    "new_val_mat=reduce_resolution(val_mat, g_max, 200)\n",
    "print(np.sort(np.unique(new_val_mat)))"
   ]
  },
  {
   "cell_type": "code",
   "execution_count": 12,
   "metadata": {},
   "outputs": [],
   "source": [
    "# VERY SIMPLE TEST\n",
    "test_array=np.zeros((3, 3, 3))\n",
    "test_array[1, 1, 1]=1\n",
    "vertices_array, faces_array=process_matrix(test_array)\n",
    "#mesh_to_file(vertices_array, faces_array, \"test_obj.obj\")"
   ]
  },
  {
   "cell_type": "code",
   "execution_count": 13,
   "metadata": {},
   "outputs": [],
   "source": [
    "filename_in='shepplogan.pgm3d'\n",
    "filename_out='shepplogan.obj'\n",
    "\n",
    "#vertices_array, faces_array=export_PGM3D_to_OBJ(filename_in, filename_out)\n",
    "vertices_array, faces_array=export_PGM3D_to_OBJ(filename_in, filename_out, -1)\n"
   ]
  },
  {
   "cell_type": "markdown",
   "metadata": {},
   "source": [
    "**Splitting and coloring the mesh (6pts)**\n",
    "\n",
    "The final task of the assignment is to split each label into a separate OBJ file with an unique color each.\n",
    "\n",
    "To assign a color to an OBJ, you have to create a material in a separate MTL file. \n",
    "The structure of a MTL file is the following : \n",
    "\n",
    "    newmtl MaterialName1\n",
    "        [Param1] [Value]\n",
    "        [Param2] [Value]\n",
    "    newmtl MaterialName2\n",
    "        [Param3] [Value]\n",
    "        [Param4] [Value]\n",
    "\n",
    "For exemple, to create a material with a red diffuse color :\n",
    "\n",
    "    newmtl mat1\n",
    "        Kd 1.0 0.0 0.0\n",
    "\n",
    "To include an MTL and attribute a material from an OBJ, you have to first include the MTL\n",
    "\n",
    "    mtllib file.mtl\n",
    "\n",
    "And then select the material used :\n",
    "\n",
    "    usemtl mat1\n",
    "\n",
    "Step 8. Still in the pgm3d_to_obj.py, modify the program to output one OBJ by label (label1.obj, label2.obj, ...) and one MTL file that contains all materials. Each OBJ have to include the MTL file and have an unique color (remember that you have to handle an arbitrary number of labels). You can display the final result by importing all OBJ in MeshLab and hiding some mesh by clicking the eye (upper-right corner)."
   ]
  },
  {
   "cell_type": "code",
   "execution_count": null,
   "metadata": {},
   "outputs": [],
   "source": [
    "# find all functions in pgm3d_to_obj.py, tools_multiple_objects.py, tools_matrix_handling.py \n",
    "# (also you can find the previous functions with more exception handling in tools_one_object.py)"
   ]
  },
  {
   "cell_type": "markdown",
   "metadata": {},
   "source": [
    "** The quality of the code will be taken into account. The program have to be a functionnal command-line program called by \"./program arguments\" and displaying the [usage](https://en.wikipedia.org/wiki/Usage_message) if needed.**\n",
    "\n",
    "**The code have to be readable (decent variable names, splitted into functions, no gigantic functions that handle everything, avoid hard-coded constants. Add comments where you think it's needed.**\n",
    "\n",
    "**It should also handle potential errors correctly and not crash if one occur.**"
   ]
  }
 ],
 "metadata": {
  "kernelspec": {
   "display_name": "Python 3",
   "language": "python",
   "name": "python3"
  },
  "language_info": {
   "codemirror_mode": {
    "name": "ipython",
    "version": 3
   },
   "file_extension": ".py",
   "mimetype": "text/x-python",
   "name": "python",
   "nbconvert_exporter": "python",
   "pygments_lexer": "ipython3",
   "version": "3.8.3"
  }
 },
 "nbformat": 4,
 "nbformat_minor": 4
}
